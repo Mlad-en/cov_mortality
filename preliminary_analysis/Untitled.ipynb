{
 "cells": [
  {
   "cell_type": "code",
   "execution_count": 25,
   "id": "typical-three",
   "metadata": {},
   "outputs": [],
   "source": [
    "import datetime\n",
    "import pandas as pd\n",
    "import numpy as np\n",
    "from requests import get\n",
    "from bs4 import BeautifulSoup\n",
    "\n",
    "\n",
    "URl_MAIN = 'https://www.nsi.bg'\n",
    "\n",
    "# Bulgarian National Statistics Institute\n",
    "BG_NSI_URL = {\n",
    "    'main': 'https://www.nsi.bg',\n",
    "    'pages': {\n",
    "        'life_expectancy':\n",
    "            '/bg/content/3018/смъртност-и-средна-продължителност-на-предстоящия-живот-на-населението-по-местоживеене',\n",
    "            'mortality_per_week': '/bg/node/18121/',\n",
    "    },\n",
    "    'files': {\n",
    "        'mortality_per_week': '/bg/node/18121/',\n",
    "        'life_expectancy': '/sites/default/files/files/data/timeseries/Pop_3.1_tab_mortality_DR.xls',\n",
    "    }\n",
    "}\n"
   ]
  },
  {
   "cell_type": "code",
   "execution_count": 32,
   "id": "functional-kruger",
   "metadata": {},
   "outputs": [],
   "source": [
    "url = BG_NSI_URL['main'] + BG_NSI_URL['pages']['mortality_per_week']\n",
    "\n",
    "req = get(url)\n",
    "page = BeautifulSoup(req.content, 'lxml')\n",
    "mortality_per_week_file = page.find(lambda tag: tag.name == 'a' and 'Умирания в България по седмици в периода' in tag.text)\n",
    "mortality_per_week_path = mortality_per_week_file['href']\n",
    "file_req = get(BG_NSI_URL['main']+mortality_per_week_path)\n",
    "date = datetime.date.today()\n",
    "\n",
    "df = pd.read_excel(file_req.content, engine='openpyxl')\n",
    "\n",
    "df.dropna(axis=1, how='all', inplace=True)\n",
    "headers = df.iloc[2]\n",
    "df.dropna(axis=0, how='any', inplace=True)\n",
    "df.columns = headers\n",
    "df.rename(columns={ df.columns[0]: \"Year\" },inplace=True)\n",
    "df.replace('x', np.nan, inplace = True)\n",
    "\n",
    "avg_years_start = df[df['Year'].str.startswith('2015')].index.values[0]\n",
    "avg_years_end = df[df['Year'].str.startswith('2019')].index.values[0]\n",
    "analized_year = df[df['Year'].str.startswith('2020')].index.values[0]\n",
    "\n",
    "excess_death = pd.DataFrame()\n",
    "excess_death['average_death'] = df.loc[avg_years_start:avg_years_end].mean()\n",
    "death_2020 = df.loc[analized_year]\n",
    "excess_death['death_2020'] = death_2020\n",
    "excess_death = excess_death[excess_death['death_2020']!='-']\n",
    "excess_death['excess_death'] = excess_death['death_2020'] - excess_death['average_death']\n",
    "\n",
    "excess_death.reset_index(inplace=True)\n",
    "excess_death.rename(columns={  excess_death.columns[0]: \"Week\" },inplace=True)\n",
    "excess_death['Week'] = excess_death['Week'].str.replace('W', '')"
   ]
  },
  {
   "cell_type": "code",
   "execution_count": 33,
   "id": "irish-battlefield",
   "metadata": {},
   "outputs": [],
   "source": [
    "excess_death['Week'] = pd.to_numeric(excess_death['Week'])"
   ]
  },
  {
   "cell_type": "code",
   "execution_count": 41,
   "id": "legal-mitchell",
   "metadata": {},
   "outputs": [
    {
     "data": {
      "text/plain": [
       "15110.199999999997"
      ]
     },
     "execution_count": 41,
     "metadata": {},
     "output_type": "execute_result"
    }
   ],
   "source": [
    "sum(excess_death[(excess_death['Week']>=0)& (excess_death['Week']<=100)]['excess_death'])"
   ]
  },
  {
   "cell_type": "code",
   "execution_count": null,
   "id": "utility-transparency",
   "metadata": {},
   "outputs": [],
   "source": []
  },
  {
   "cell_type": "code",
   "execution_count": null,
   "id": "thick-pillow",
   "metadata": {},
   "outputs": [],
   "source": []
  },
  {
   "cell_type": "code",
   "execution_count": null,
   "id": "synthetic-editor",
   "metadata": {},
   "outputs": [],
   "source": []
  }
 ],
 "metadata": {
  "kernelspec": {
   "display_name": "Python 3",
   "language": "python",
   "name": "python3"
  },
  "language_info": {
   "codemirror_mode": {
    "name": "ipython",
    "version": 3
   },
   "file_extension": ".py",
   "mimetype": "text/x-python",
   "name": "python",
   "nbconvert_exporter": "python",
   "pygments_lexer": "ipython3",
   "version": "3.8.3"
  }
 },
 "nbformat": 4,
 "nbformat_minor": 5
}
